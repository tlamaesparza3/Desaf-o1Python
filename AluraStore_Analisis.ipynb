import pandas as pd
import matplotlib.pyplot as plt
import seaborn as sns

# --- Carga de Datos ---
# Se cargan los datos de las cuatro tiendas en sus respectivos DataFrames.
try:
    store1 = pd.read_csv('tienda_1 .csv')
    store2 = pd.read_csv('tienda_2.csv')
    store3 = pd.read_csv('tienda_3.csv')
    store4 = pd.read_csv('tienda_4.csv')
    print("Archivos cargados correctamente.")
except FileNotFoundError as e:
    print(f"Error: No se encontró el archivo {e.filename}. Asegúrate de que los archivos CSV estén en la misma carpeta.")
    # Detener la ejecución si los archivos no se encuentran
    exit()


# --- Análisis de Datos ---
# Se crea una lista con los DataFrames para iterar sobre ellos.
stores_dfs = [store1, store2, store3, store4]
store_names = ['Tienda 1', 'Tienda 2', 'Tienda 3', 'Tienda 4']

# Se crea un diccionario para almacenar los resultados del análisis.
analysis_results = {
    'Tienda': [],
    'Ingresos Totales (COP)': [],
    'Evaluación Promedio': [],
    'Costo de Envío Promedio (COP)': [],
    'Categoría Más Vendida': [],
    'Producto Más Vendido': []
}

# Se realiza el análisis para cada tienda.
for i, df in enumerate(stores_dfs):
    store_name = store_names[i]
    
    # 1. Ingresos Totales
    total_revenue = df['Precio'].sum()
    
    # 2. Evaluación Promedio
    avg_rating = df['Calificación'].mean()
    
    # 3. Costo de Envío Promedio
    avg_shipping_cost = df['Costo de envío'].mean()
    
    # 4. Categoría Más Vendida
    top_category = df['Categoría del Producto'].mode()[0]
    
    # 5. Producto Más Vendido
    top_product = df['Producto'].mode()[0]
    
    # Se guardan los resultados
    analysis_results['Tienda'].append(store_name)
    analysis_results['Ingresos Totales (COP)'].append(total_revenue)
    analysis_results['Evaluación Promedio'].append(avg_rating)
    analysis_results['Costo de Envío Promedio (COP)'].append(avg_shipping_cost)
    analysis_results['Categoría Más Vendida'].append(top_category)
    analysis_results['Producto Más Vendido'].append(top_product)

# Se crea un DataFrame con los resultados consolidados.
summary_df = pd.DataFrame(analysis_results)
print("\n--- Tabla Comparativa de Rendimiento ---")
print(summary_df.to_string(index=False))


# --- Visualización de Datos ---

# Configuración del estilo de los gráficos.
sns.set_theme(style="whitegrid")

# 1. Gráfico de Barras: Ingresos Totales por Tienda
plt.figure(figsize=(10, 6))
barplot_revenue = sns.barplot(x='Tienda', y='Ingresos Totales (COP)', data=summary_df.sort_values('Ingresos Totales (COP)', ascending=False), palette='viridis')
plt.title('Ingresos Totales por Tienda', fontsize=16)
plt.ylabel('Ingresos Totales (en millones de COP)', fontsize=12)
plt.xlabel('Tienda', fontsize=12)
# Formatear el eje y para mostrar en millones
formatter = lambda x, pos: f'{x/1e6:.1f}M'
barplot_revenue.yaxis.set_major_formatter(plt.FuncFormatter(formatter))
plt.tight_layout()
plt.show()

# 2. Gráfico de Barras: Evaluación Promedio por Tienda
plt.figure(figsize=(10, 6))
barplot_rating = sns.barplot(x='Tienda', y='Evaluación Promedio', data=summary_df.sort_values('Evaluación Promedio', ascending=False), palette='plasma')
plt.title('Evaluación Promedio de Clientes por Tienda', fontsize=16)
plt.ylabel('Evaluación Promedio (1-5)', fontsize=12)
plt.xlabel('Tienda', fontsize=12)
plt.ylim(0, 5) # Escala de 0 a 5 para la calificación
plt.tight_layout()
plt.show()

# 3. Gráfico Circular (Pie Chart): Distribución de la Categoría Más Vendida
plt.figure(figsize=(10, 8))
category_counts = summary_df['Categoría Más Vendida'].value_counts()
plt.pie(category_counts, labels=category_counts.index, autopct='%1.1f%%', startangle=140, colors=sns.color_palette('pastel'))
plt.title('Distribución de la Categoría Principal por Tienda', fontsize=16)
plt.ylabel('') # Ocultar la etiqueta del eje y
plt.show()
